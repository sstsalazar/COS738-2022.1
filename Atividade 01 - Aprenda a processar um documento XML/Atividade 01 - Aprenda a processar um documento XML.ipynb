{
 "cells": [
  {
   "cell_type": "markdown",
   "id": "6dd763ea-4fd9-473e-bc7b-783ca1144a61",
   "metadata": {},
   "source": [
    "# Atividade 01 - Aprenda a processar um documento XML\n",
    "\n",
    "Muitos dos documentos que encontramos com informações hoje em dia são XML.\n",
    "\n",
    "Processá-los exige algum documento específico que você terá que construir para participar nesse curso.\n",
    "\n",
    "Para provar que aprendeu XML você deve fazer uma pequena atividade.\n",
    "\n",
    "1. Baixe a nossa Base Oficial de Trabalho (CysticFibrosis2)\n",
    "1. Escolha dois processadores de XML diferentes em Python, A e B (DOM, SAX ou outro)\n",
    "1. Use um processador A para obter o nome de todos os AUTHOR citados no arquivo cf79.xml, salve 1 por linha no arquivo autores.xml\n",
    "1. Use um processador B para obter o nome de todos os TITLE citados no arquivo cf79.xml, salve 1 por linha no arquivo titulo.xml\n",
    "1. Poste o código e os resultados no GitHub\n",
    "1. Poste aqui o link para o GitHub"
   ]
  },
  {
   "cell_type": "markdown",
   "id": "70248284-b2b1-406f-8105-7b34ea07c1a4",
   "metadata": {},
   "source": [
    "## Resolução\n"
   ]
  },
  {
   "cell_type": "markdown",
   "id": "3fdc43cd-bac8-44da-9621-97c29d4d7a10",
   "metadata": {},
   "source": [
    "### Baixe a nossa Base Oficial de Trabalho (CysticFibrosis2)"
   ]
  },
  {
   "cell_type": "code",
   "execution_count": 1,
   "id": "f8eafd85-084b-4345-8172-93c6dbcd0d93",
   "metadata": {},
   "outputs": [],
   "source": [
    "import os\n",
    "from IPython.display import display, HTML, JSON\n",
    "\n",
    "root = \"./CysticFibrosis2/data/\"\n",
    "data = {}\n",
    "for f in os.listdir(root):\n",
    "    path = root + f\n",
    "    with open(path,'r') as file:\n",
    "        data[f] = {\"path\": path,\n",
    "                   \"data\": file.read()}"
   ]
  },
  {
   "cell_type": "markdown",
   "id": "cfcaa28f-70a8-403a-a75c-d23e89ada436",
   "metadata": {},
   "source": [
    "### Escolha dois processadores de XML diferentes em Python, A e B (DOM, SAX ou outro)\n",
    "Escolha:\n",
    "1. Python's XML\n",
    "1. LXML\n"
   ]
  },
  {
   "cell_type": "markdown",
   "id": "a65576ef-6425-4cfe-96f7-e90227772386",
   "metadata": {},
   "source": [
    "### Use um processador A para obter o nome de todos os AUTHOR citados no arquivo cf79.xml, salve 1 por linha no arquivo autores.xml\n"
   ]
  },
  {
   "cell_type": "markdown",
   "id": "f4c23cca-41fe-447b-b593-4f23010336bc",
   "metadata": {},
   "source": [
    "Constrói a arvore a parte do xml.etree.ElementTree  e filtra via XPath os nós com tag Author."
   ]
  },
  {
   "cell_type": "code",
   "execution_count": 2,
   "id": "240ffadc-4913-426b-9c3a-3d1d9a9029b6",
   "metadata": {},
   "outputs": [],
   "source": [
    "import xml.etree.ElementTree as ET\n",
    "\n",
    "tree = ET.parse(data[\"cf79.xml\"][\"path\"])\n",
    "root = tree.getroot()"
   ]
  },
  {
   "cell_type": "code",
   "execution_count": 3,
   "id": "e3a5b915-7f5d-421b-9ae3-67090b8860a3",
   "metadata": {},
   "outputs": [],
   "source": [
    "authors = []\n",
    "for author in root.findall('RECORD/AUTHORS/AUTHOR'):\n",
    "    authors.append(author.text)\n",
    "    \n",
    "with open(\"authors.xml\",\"w\") as output:\n",
    "    output.write(\"<FILE>\\n\")\n",
    "    output.write(\"\\t<AUTHORS>\\n\")\n",
    "    for a in authors:\n",
    "        output.write(\"\\t\\t<AUTHOR>{}</AUTHOR>\\n\".format(a))\n",
    "    output.write(\"\\t</AUTHORS>\\n\")\n",
    "    output.write(\"</FILE>\\n\")"
   ]
  },
  {
   "cell_type": "code",
   "execution_count": null,
   "id": "b82df4f4-ce7c-4d0a-8cfd-1f0ebeeba503",
   "metadata": {},
   "outputs": [],
   "source": []
  },
  {
   "cell_type": "markdown",
   "id": "1216c30a-b1b2-41e8-8801-d89b63fc3b14",
   "metadata": {},
   "source": [
    "### Use um processador B para obter o nome de todos os TITLE citados no arquivo cf79.xml, salve 1 por linha no arquivo titulo.xml\n"
   ]
  },
  {
   "cell_type": "markdown",
   "id": "68c80433-8d1b-4a6a-be69-9ece8eb9c152",
   "metadata": {},
   "source": [
    "Constrói a arvore a parte do lxml.etree e \"simula\" a árvore DOM percorrendo a árvore de RECORDS e selecionando a com tag TITLE."
   ]
  },
  {
   "cell_type": "code",
   "execution_count": 4,
   "id": "e5085ac1-6477-4e5c-8ee2-baf32eb84e01",
   "metadata": {},
   "outputs": [],
   "source": [
    "from lxml import etree\n",
    "tree = etree.parse(data[\"cf79.xml\"][\"path\"])\n",
    "root = tree.getroot()"
   ]
  },
  {
   "cell_type": "code",
   "execution_count": 5,
   "id": "bbb7d876-1832-4d6c-b585-d29ddb420c76",
   "metadata": {},
   "outputs": [],
   "source": [
    "titles = []\n",
    "for records in root:\n",
    "    for data in records:\n",
    "        if data.tag == \"TITLE\":\n",
    "            titles.append(data.text)\n",
    "            \n",
    "with open(\"titles.xml\",\"w\") as output:\n",
    "    output.write(\"<FILE>\\n\")\n",
    "    output.write(\"\\t<TITLES>\\n\")\n",
    "    for t in titles:\n",
    "        output.write(\"\\t\\t<TITLE>{}</TITLE>\\n\".format(t))\n",
    "    output.write(\"\\t</TITLES>\\n\")\n",
    "    output.write(\"</FILE>\\n\")"
   ]
  },
  {
   "cell_type": "code",
   "execution_count": null,
   "id": "deb4075c-6bb1-444b-bf1f-ef5ba628cc7d",
   "metadata": {},
   "outputs": [],
   "source": []
  }
 ],
 "metadata": {
  "kernelspec": {
   "display_name": "Python 3 (ipykernel)",
   "language": "python",
   "name": "python3"
  },
  "language_info": {
   "codemirror_mode": {
    "name": "ipython",
    "version": 3
   },
   "file_extension": ".py",
   "mimetype": "text/x-python",
   "name": "python",
   "nbconvert_exporter": "python",
   "pygments_lexer": "ipython3",
   "version": "3.8.13"
  }
 },
 "nbformat": 4,
 "nbformat_minor": 5
}
